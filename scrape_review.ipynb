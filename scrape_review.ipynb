{
 "cells": [
  {
   "cell_type": "code",
   "execution_count": 12,
   "metadata": {},
   "outputs": [
    {
     "name": "stdout",
     "output_type": "stream",
     "text": [
      "500\n"
     ]
    }
   ],
   "source": [
    "import requests\n",
    "from bs4 import BeautifulSoup\n",
    "\n",
    "url = r\"https://www.flipkart.com/apple-iphone-15-blue-128-gb/product-reviews/itmbf14ef54f645d?pid=MOBGTAGPAQNVFZZY&lid=LSTMOBGTAGPAQNVFZZY7RHDU7&marketplace=FLIPKART\"\n",
    "\n",
    "# Send a GET request to the URL\n",
    "headers = {\n",
    "    'User-Agent': 'Mozilla/5.0 (Windows NT 10.0; Win64; x64) AppleWebKit/537.36 (KHTML, like Gecko) Chrome/94.0.4606.81 Safari/537.36'\n",
    "}\n",
    "response = requests.get(url, headers=headers)\n",
    "# response = requests.get(url)\n",
    "print(response.status_code)\n",
    "# if response.status_code == 200:\n",
    "#     print('suceess')\n",
    "# else:\n",
    "#     print('un')\n",
    "# response.content\n",
    "# Parse the HTML content of the page\n",
    "# soup = BeautifulSoup(response.content, 'html.parser')\n",
    "\n",
    "# Find all review elements\n",
    "# class=\"_27M-vq\"\n",
    "# class=\"_1AtVbE col-12-12\"\n",
    "# reviews = soup.find_all('div', class_='_1AtVbE')\n",
    "\n",
    "# reviews\n",
    "# Extract review text\n",
    "# for review in reviews:\n",
    "#     review_text = review.find('div', class_='_1PBCrt').text\n",
    "#     print(review_text)\n",
    "#     print()\n"
   ]
  },
  {
   "cell_type": "code",
   "execution_count": 17,
   "metadata": {},
   "outputs": [
    {
     "name": "stdout",
     "output_type": "stream",
     "text": [
      "500\n"
     ]
    }
   ],
   "source": [
    "import requests\n",
    "from bs4 import BeautifulSoup\n",
    "url = r\"https://www.flipkart.com/apple-iphone-15-blue-128-gb/product-reviews/itmbf14ef54f645d?pid=MOBGTAGPAQNVFZZY&lid=LSTMOBGTAGPAQNVFZZY7RHDU7&marketplace=FLIPKART\"\n",
    "url2 = \"https://www.flipkart.com/\"\n",
    "\n",
    "# Set headers\n",
    "headers = {\n",
    "    'User-Agent': 'Mozilla/5.0 (Windows NT 10.0; Win64; x64) AppleWebKit/537.36 (KHTML, like Gecko) Chrome/94.0.4606.81 Safari/537.36',\n",
    "    'Referer': 'https://www.flipkart.com/'\n",
    "}\n",
    "\n",
    "# Send a GET request to the URL\n",
    "session = requests.Session()\n",
    "response = session.get(url2, headers=headers)\n",
    "print(response.status_code)"
   ]
  },
  {
   "cell_type": "code",
   "execution_count": null,
   "metadata": {},
   "outputs": [],
   "source": [
    "r"
   ]
  }
 ],
 "metadata": {
  "kernelspec": {
   "display_name": "Python 3",
   "language": "python",
   "name": "python3"
  },
  "language_info": {
   "codemirror_mode": {
    "name": "ipython",
    "version": 3
   },
   "file_extension": ".py",
   "mimetype": "text/x-python",
   "name": "python",
   "nbconvert_exporter": "python",
   "pygments_lexer": "ipython3",
   "version": "3.11.5"
  }
 },
 "nbformat": 4,
 "nbformat_minor": 2
}
